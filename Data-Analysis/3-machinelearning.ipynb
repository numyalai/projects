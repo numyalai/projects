{
 "cells": [
  {
   "cell_type": "code",
   "execution_count": 1,
   "metadata": {},
   "outputs": [],
   "source": [
    "from sklearn import datasets, model_selection, svm, naive_bayes, tree, metrics, preprocessing\n",
    "import pandas as pd"
   ]
  },
  {
   "cell_type": "code",
   "execution_count": 2,
   "metadata": {},
   "outputs": [
    {
     "data": {
      "text/html": [
       "<div>\n",
       "<style scoped>\n",
       "    .dataframe tbody tr th:only-of-type {\n",
       "        vertical-align: middle;\n",
       "    }\n",
       "\n",
       "    .dataframe tbody tr th {\n",
       "        vertical-align: top;\n",
       "    }\n",
       "\n",
       "    .dataframe thead th {\n",
       "        text-align: right;\n",
       "    }\n",
       "</style>\n",
       "<table border=\"1\" class=\"dataframe\">\n",
       "  <thead>\n",
       "    <tr style=\"text-align: right;\">\n",
       "      <th></th>\n",
       "      <th>age</th>\n",
       "      <th>sex</th>\n",
       "      <th>on thyroxine</th>\n",
       "      <th>query on thyroxine</th>\n",
       "      <th>on antithyroid medication</th>\n",
       "      <th>sick</th>\n",
       "      <th>pregnant</th>\n",
       "      <th>thyroid surgery</th>\n",
       "      <th>I131 treatment</th>\n",
       "      <th>query hypothyroid</th>\n",
       "      <th>...</th>\n",
       "      <th>capital-gain</th>\n",
       "      <th>capital-loss</th>\n",
       "      <th>hours-per-week</th>\n",
       "      <th>race</th>\n",
       "      <th>Country</th>\n",
       "      <th>education-status</th>\n",
       "      <th>marital-status</th>\n",
       "      <th>personal_info</th>\n",
       "      <th>class</th>\n",
       "      <th>class number</th>\n",
       "    </tr>\n",
       "  </thead>\n",
       "  <tbody>\n",
       "    <tr>\n",
       "      <th>0</th>\n",
       "      <td>88.0</td>\n",
       "      <td>0</td>\n",
       "      <td>0</td>\n",
       "      <td>0</td>\n",
       "      <td>0</td>\n",
       "      <td>0</td>\n",
       "      <td>0</td>\n",
       "      <td>0</td>\n",
       "      <td>0</td>\n",
       "      <td>0</td>\n",
       "      <td>...</td>\n",
       "      <td>0.0</td>\n",
       "      <td>0</td>\n",
       "      <td>40.0</td>\n",
       "      <td>4</td>\n",
       "      <td>34</td>\n",
       "      <td>15</td>\n",
       "      <td>4</td>\n",
       "      <td>3</td>\n",
       "      <td>0</td>\n",
       "      <td>3734</td>\n",
       "    </tr>\n",
       "    <tr>\n",
       "      <th>1</th>\n",
       "      <td>36.0</td>\n",
       "      <td>0</td>\n",
       "      <td>0</td>\n",
       "      <td>0</td>\n",
       "      <td>0</td>\n",
       "      <td>0</td>\n",
       "      <td>0</td>\n",
       "      <td>0</td>\n",
       "      <td>0</td>\n",
       "      <td>0</td>\n",
       "      <td>...</td>\n",
       "      <td>0.0</td>\n",
       "      <td>0</td>\n",
       "      <td>20.0</td>\n",
       "      <td>4</td>\n",
       "      <td>34</td>\n",
       "      <td>11</td>\n",
       "      <td>4</td>\n",
       "      <td>3</td>\n",
       "      <td>0</td>\n",
       "      <td>3516</td>\n",
       "    </tr>\n",
       "    <tr>\n",
       "      <th>2</th>\n",
       "      <td>79.0</td>\n",
       "      <td>0</td>\n",
       "      <td>0</td>\n",
       "      <td>0</td>\n",
       "      <td>0</td>\n",
       "      <td>0</td>\n",
       "      <td>0</td>\n",
       "      <td>0</td>\n",
       "      <td>0</td>\n",
       "      <td>0</td>\n",
       "      <td>...</td>\n",
       "      <td>0.0</td>\n",
       "      <td>0</td>\n",
       "      <td>50.0</td>\n",
       "      <td>4</td>\n",
       "      <td>34</td>\n",
       "      <td>9</td>\n",
       "      <td>0</td>\n",
       "      <td>1</td>\n",
       "      <td>0</td>\n",
       "      <td>2331</td>\n",
       "    </tr>\n",
       "    <tr>\n",
       "      <th>3</th>\n",
       "      <td>40.0</td>\n",
       "      <td>0</td>\n",
       "      <td>0</td>\n",
       "      <td>0</td>\n",
       "      <td>0</td>\n",
       "      <td>0</td>\n",
       "      <td>0</td>\n",
       "      <td>0</td>\n",
       "      <td>0</td>\n",
       "      <td>0</td>\n",
       "      <td>...</td>\n",
       "      <td>0.0</td>\n",
       "      <td>0</td>\n",
       "      <td>40.0</td>\n",
       "      <td>4</td>\n",
       "      <td>34</td>\n",
       "      <td>9</td>\n",
       "      <td>4</td>\n",
       "      <td>3</td>\n",
       "      <td>0</td>\n",
       "      <td>2960</td>\n",
       "    </tr>\n",
       "    <tr>\n",
       "      <th>4</th>\n",
       "      <td>68.0</td>\n",
       "      <td>0</td>\n",
       "      <td>0</td>\n",
       "      <td>0</td>\n",
       "      <td>0</td>\n",
       "      <td>0</td>\n",
       "      <td>0</td>\n",
       "      <td>0</td>\n",
       "      <td>0</td>\n",
       "      <td>0</td>\n",
       "      <td>...</td>\n",
       "      <td>0.0</td>\n",
       "      <td>0</td>\n",
       "      <td>30.0</td>\n",
       "      <td>4</td>\n",
       "      <td>34</td>\n",
       "      <td>11</td>\n",
       "      <td>4</td>\n",
       "      <td>1</td>\n",
       "      <td>0</td>\n",
       "      <td>3424</td>\n",
       "    </tr>\n",
       "  </tbody>\n",
       "</table>\n",
       "<p>5 rows × 41 columns</p>\n",
       "</div>"
      ],
      "text/plain": [
       "    age  sex  on thyroxine  query on thyroxine  on antithyroid medication  \\\n",
       "0  88.0    0             0                   0                          0   \n",
       "1  36.0    0             0                   0                          0   \n",
       "2  79.0    0             0                   0                          0   \n",
       "3  40.0    0             0                   0                          0   \n",
       "4  68.0    0             0                   0                          0   \n",
       "\n",
       "   sick  pregnant  thyroid surgery  I131 treatment  query hypothyroid  \\\n",
       "0     0         0                0               0                  0   \n",
       "1     0         0                0               0                  0   \n",
       "2     0         0                0               0                  0   \n",
       "3     0         0                0               0                  0   \n",
       "4     0         0                0               0                  0   \n",
       "\n",
       "       ...       capital-gain  capital-loss  hours-per-week  race  Country  \\\n",
       "0      ...                0.0             0            40.0     4       34   \n",
       "1      ...                0.0             0            20.0     4       34   \n",
       "2      ...                0.0             0            50.0     4       34   \n",
       "3      ...                0.0             0            40.0     4       34   \n",
       "4      ...                0.0             0            30.0     4       34   \n",
       "\n",
       "   education-status  marital-status  personal_info  class  class number  \n",
       "0                15               4              3      0          3734  \n",
       "1                11               4              3      0          3516  \n",
       "2                 9               0              1      0          2331  \n",
       "3                 9               4              3      0          2960  \n",
       "4                11               4              1      0          3424  \n",
       "\n",
       "[5 rows x 41 columns]"
      ]
     },
     "execution_count": 2,
     "metadata": {},
     "output_type": "execute_result"
    }
   ],
   "source": [
    "train = pd.read_csv('repairedTrain.csv')\n",
    "test = pd.read_csv('repairedTest.csv')\n",
    "train.drop('date_of_birth', axis=1, inplace=True)\n",
    "train.drop('Unnamed: 0', axis=1, inplace=True)\n",
    "train.drop('Unnamed: 0.1', axis=1, inplace=True)\n",
    "test.drop('date_of_birth', axis=1, inplace=True)\n",
    "test.drop('Unnamed: 0', axis=1, inplace=True)\n",
    "test.drop('Unnamed: 0.1', axis=1, inplace=True)\n",
    "\n",
    "#encoders which didn't work\n",
    "\n",
    "'''\n",
    "\n",
    "from sklearn.externals import joblib\n",
    "train_df = pd.read_csv('repairedTrain.csv')\n",
    "test_df = pd.read_csv('repairedTest.csv')\n",
    "train_df.drop('date_of_birth', axis=1, inplace=True)\n",
    "train_df.drop('Unnamed: 0', axis=1, inplace=True)\n",
    "train_df.drop('Unnamed: 0.1', axis=1, inplace=True)\n",
    "test_df.drop('date_of_birth', axis=1, inplace=True)\n",
    "test_df.drop('Unnamed: 0', axis=1, inplace=True)\n",
    "test_df.drop('Unnamed: 0.1', axis=1, inplace=True)\n",
    "\n",
    "\n",
    "\n",
    "train_df['label'] = 'train'\n",
    "score_df['label'] = 'score'\n",
    "\n",
    "# Concat\n",
    "concat_df = pd.concat([train_df , score_df])\n",
    "\n",
    "# Create your dummies\n",
    "features_df = pd.get_dummies(concat_df, columns=concat_df.columns, dummy_na=True)\n",
    "\n",
    "train_df = feature_df[feature_df['label_train'] == 1]\n",
    "test_df = feature_df[feature_df['label_test'] == 0]\n",
    "train_df = train_df.drop(['label_train', 'label_test'], axis=1)\n",
    "test_df = test_df.drop(['label_train', 'label_test'], axis=1)\n",
    "\n",
    "\n",
    "'''\n",
    "for column in train.columns:\n",
    "    if train[column].dtype == type(object):\n",
    "        le = preprocessing.LabelEncoder()\n",
    "        train[column] = le.fit_transform(train[column].astype(str))\n",
    "        test[column] = le.fit_transform(test[column].astype(str))\n",
    "\n",
    "X = train.drop('class', axis=1)\n",
    "y = train['class']\n",
    "\n",
    "X2 = test.drop('class', axis=1)\n",
    "y2 = test['class']\n",
    "\n",
    "\n",
    "X_train, X_test, y_train, y_test = model_selection.train_test_split(X, y, test_size=0.1, random_state=0)\n",
    "X_test  =  X_test.fillna(X_test.mean())\n",
    "train.head()"
   ]
  },
  {
   "cell_type": "markdown",
   "metadata": {},
   "source": [
    "Na predspracovany tvar datasetu bolo potrebne premenit kategoricke atributy na numericke. Zvolila sa nie najstastnejsia metoda LabelEncoder. Pretoze algoritmy strojoveho ucenia s nimi vykonavaju matematicke operacie, mozu mat mylnu predstavu o tom, ako to naozaj s tymi atributmi funguje. "
   ]
  },
  {
   "cell_type": "markdown",
   "metadata": {},
   "source": [
    "# Rozhodovaci strom\n",
    "Pre hyperparameter tuning sa vybrali nasledujuce parametre:<br>\n",
    "kriteria rozdelovania (criterion),<br>\n",
    "maximalna hlbka stromu (max_depth),<br>\n",
    "minimalny pocet pozorovani v liste (min_samples_leaf).<br>\n",
    "\n",
    "Pri vyhodnocovani uspesnosti pri vsetkych klasifikatoroch sme si zvolili metriku <b>recall</b>, pretoze nam ovela menej vadi povazovat zdraveho cloveka za choreho ako povazovat choreho za zdraveho. V nasom pripade minoritnou triedou su chori ludia a preto precision moze byt vysoky aj pri trivialnych klasifikatoroch."
   ]
  },
  {
   "cell_type": "code",
   "execution_count": 3,
   "metadata": {},
   "outputs": [],
   "source": [
    "cv_params = {'max_depth': list(range(1,15)), 'criterion': ['gini', 'entropy'], 'min_samples_leaf': [1, 2, 4, 8, 12, 16]}\n",
    "opt = model_selection.GridSearchCV(tree.DecisionTreeClassifier(), cv_params, scoring='recall', cv=5).fit(X_train, y_train)"
   ]
  },
  {
   "cell_type": "code",
   "execution_count": 4,
   "metadata": {},
   "outputs": [
    {
     "data": {
      "text/plain": [
       "{'criterion': 'entropy', 'max_depth': 9, 'min_samples_leaf': 1}"
      ]
     },
     "execution_count": 4,
     "metadata": {},
     "output_type": "execute_result"
    }
   ],
   "source": [
    "opt.fit(X, y)\n",
    "opt.best_params_"
   ]
  },
  {
   "cell_type": "markdown",
   "metadata": {},
   "source": [
    "Najvacsiu uspesnost malo nastavenie hyperparametrov:<br>\n",
    "criterion = entropy<br>\n",
    "max_depth = 8<br>\n",
    "min_samples_leaf = 1"
   ]
  },
  {
   "cell_type": "code",
   "execution_count": 5,
   "metadata": {},
   "outputs": [
    {
     "name": "stdout",
     "output_type": "stream",
     "text": [
      "Vysledky na trenovacich datach\n",
      " 1.0\n",
      "             precision    recall  f1-score   support\n",
      "\n",
      "          0       1.00      1.00      1.00      2628\n",
      "          1       1.00      1.00      1.00       171\n",
      "\n",
      "avg / total       1.00      1.00      1.00      2799\n",
      " \n",
      "\n",
      "Vysledky na testovacich datach\n",
      "0.9845679012345679\n",
      "             precision    recall  f1-score   support\n",
      "\n",
      "          0       0.99      0.99      0.99       912\n",
      "          1       0.88      0.87      0.87        60\n",
      "\n",
      "avg / total       0.98      0.98      0.98       972\n",
      "\n"
     ]
    }
   ],
   "source": [
    "dtc = tree.DecisionTreeClassifier(criterion='entropy', max_depth=8, min_samples_leaf=1) # kernel, C, gamma\n",
    "dtc.fit(X, y)\n",
    "\n",
    "train_preds = dtc.predict(X)\n",
    "train_accuracy = metrics.accuracy_score(y, train_preds)\n",
    "print(\"Vysledky na trenovacich datach\\n\", train_accuracy)\n",
    "print(metrics.classification_report(y, train_preds), \"\\n\\nVysledky na testovacich datach\")\n",
    "\n",
    "preds = dtc.predict(X2)\n",
    "test_accuracy = metrics.accuracy_score(y2, preds)\n",
    "print(test_accuracy)\n",
    "print(metrics.classification_report(y2, preds))"
   ]
  },
  {
   "cell_type": "markdown",
   "metadata": {},
   "source": [
    "Rozdiely vysledkov pri trenovacich a testovacich dat je minimalny, to znamena ze nedoslo k preuceniu rozhodovacieho stromu<br>"
   ]
  },
  {
   "cell_type": "code",
   "execution_count": 6,
   "metadata": {},
   "outputs": [
    {
     "name": "stdout",
     "output_type": "stream",
     "text": [
      "TSH 0.05251344790052523\n",
      "T3 0.6122754943376096\n",
      "TT4 0.11560724162895379\n",
      "FTI 0.11571933249130462\n"
     ]
    }
   ],
   "source": [
    "for ith, i in enumerate(dtc.feature_importances_): # cez toto vieme urcit ktore atributy boli nanic a sposobovali akysi sum... mozme ich zahodit\n",
    "    if i > 0.04:\n",
    "        print(X_train.columns[ith], i)"
   ]
  },
  {
   "cell_type": "markdown",
   "metadata": {},
   "source": [
    "Pri natrenovanom rozhodovacom strome s relativne najlepsim nastavenim hyperparametrov boli najdolezistejsie tieto atributy: TSH, T3, TT4 a FTI"
   ]
  },
  {
   "cell_type": "code",
   "execution_count": null,
   "metadata": {},
   "outputs": [],
   "source": []
  },
  {
   "cell_type": "markdown",
   "metadata": {},
   "source": [
    "# Gaussian Naive Bayes"
   ]
  },
  {
   "cell_type": "markdown",
   "metadata": {},
   "source": [
    "Pri naivnom bayesovskom klasifikatore niesu ziadne nastavilne hyperparametre ktore stoja za vyhladavanie gridsearchom"
   ]
  },
  {
   "cell_type": "code",
   "execution_count": 7,
   "metadata": {},
   "outputs": [
    {
     "name": "stdout",
     "output_type": "stream",
     "text": [
      "0.6902465166130761\n",
      "             precision    recall  f1-score   support\n",
      "\n",
      "          0       0.99      0.68      0.80      2628\n",
      "          1       0.15      0.88      0.26       171\n",
      "\n",
      "avg / total       0.94      0.69      0.77      2799\n",
      "\n",
      "0.6728395061728395\n",
      "             precision    recall  f1-score   support\n",
      "\n",
      "          0       0.99      0.66      0.79       912\n",
      "          1       0.14      0.85      0.24        60\n",
      "\n",
      "avg / total       0.93      0.67      0.76       972\n",
      "\n",
      "Pocet pozitivne predikovanych: 904 \n",
      "Pocet negativne predikovanychych: 1615\n"
     ]
    }
   ],
   "source": [
    "gnb = naive_bayes.GaussianNB().fit(X, y)\n",
    "\n",
    "train_preds2 = gnb.predict(X)\n",
    "train_accuracy = metrics.accuracy_score(y, train_preds2)\n",
    "print(train_accuracy)\n",
    "print(metrics.classification_report(y, train_preds2))\n",
    "\n",
    "preds2 = gnb.predict(X2)\n",
    "test_accuracy = metrics.accuracy_score(y2, preds2)\n",
    "print(test_accuracy)\n",
    "print(metrics.classification_report(y2, preds2))\n",
    "\n",
    "pos = 0; neg = 0\n",
    "for ith, i in enumerate(y_train):\n",
    "    if train_preds2[ith] == 1:\n",
    "        pos += 1\n",
    "    else:\n",
    "        neg += 1\n",
    "print(\"Pocet pozitivne predikovanych:\",pos,\"\\nPocet negativne predikovanychych:\",neg)"
   ]
  },
  {
   "cell_type": "markdown",
   "metadata": {},
   "source": [
    "Zrejme kvoli zlemu enkoderu sa algoritmu nedari prave kvoli normalnemu rozdielu z ktoreho vychadza. Skusme pouzit len tie atributy, ktore boli dolezite pri rozvetvovani rozhodovacieho stromu.  "
   ]
  },
  {
   "cell_type": "code",
   "execution_count": 8,
   "metadata": {},
   "outputs": [
    {
     "name": "stdout",
     "output_type": "stream",
     "text": [
      "0.939978563772776\n",
      "             precision    recall  f1-score   support\n",
      "\n",
      "          0       0.95      0.99      0.97      2628\n",
      "          1       0.52      0.22      0.31       171\n",
      "\n",
      "avg / total       0.92      0.94      0.93      2799\n",
      "\n",
      "0.934156378600823\n",
      "             precision    recall  f1-score   support\n",
      "\n",
      "          0       0.95      0.98      0.97       912\n",
      "          1       0.42      0.18      0.26        60\n",
      "\n",
      "avg / total       0.92      0.93      0.92       972\n",
      "\n",
      "Pocet pozitivne predikovanych: 69 \n",
      "Pocet negativne predikovanychych: 2450\n"
     ]
    }
   ],
   "source": [
    "'''\n",
    "TSH 0.033563168346484366\n",
    "T3 0.5860878406220137\n",
    "TT4 0.13802836109356353\n",
    "FTI 0.07261088742288066\n",
    "referral source 0.04804579760326189\n",
    "'''\n",
    "X3 = X[['TSH', 'T3', 'TT4', 'FTI']]\n",
    "X4 = X2[['TSH', 'T3', 'TT4', 'FTI']]\n",
    "\n",
    "gnb = naive_bayes.GaussianNB().fit(X3, y)\n",
    "\n",
    "train_preds2 = gnb.predict(X3)\n",
    "train_accuracy = metrics.accuracy_score(y, train_preds2)\n",
    "print(train_accuracy)\n",
    "print(metrics.classification_report(y, train_preds2))\n",
    "\n",
    "preds2 = gnb.predict(X4)\n",
    "test_accuracy = metrics.accuracy_score(y2, preds2)\n",
    "print(test_accuracy)\n",
    "print(metrics.classification_report(y2, preds2))\n",
    "\n",
    "pos = 0; neg = 0\n",
    "for ith, i in enumerate(y_train):\n",
    "    if train_preds2[ith] == 1:\n",
    "        pos += 1\n",
    "    else:\n",
    "        neg += 1\n",
    "print(\"Pocet pozitivne predikovanych:\",pos,\"\\nPocet negativne predikovanychych:\",neg)"
   ]
  },
  {
   "cell_type": "markdown",
   "metadata": {},
   "source": [
    "Tu je dokaz toho, ze zle predspracovane atributy viedli k mylnej klasifikacii. Ked pouzijeme iba nasledovne atributy ktore niesu kategoricke, algoritmu sa ovela lepsie pracuje:<br>\n",
    "TSH 0.033563168346484366<br>\n",
    "T3 0.5860878406220137<br>\n",
    "TT4 0.13802836109356353<br>\n",
    "FTI 0.07261088742288066<br>\n",
    "Aj tak sa mu vsak nedari najst ludi s chorobami, pretoze nasa zvolena metrika recall ma velmi malu uspesnost a alg. teda nieje vhodny na nas typ klasifikacie s minoritnou triedou pozitivnych chorob"
   ]
  },
  {
   "cell_type": "markdown",
   "metadata": {},
   "source": [
    "# Support Vector Classifier\n",
    "Pre hyperparameter tuning sa vybrali parametre:<br>\n",
    "kernelu - rbf, linear a poly<br> gamma a C (pouzilo by sa viac hodnot, no velmi dlho trvalo prehladavanie a ucenie modelov.<br> Kedze pri SVM ucenie trvalo velmi dlhu dobu, pouzili sa len tie najdolezitejsie atributy  "
   ]
  },
  {
   "cell_type": "code",
   "execution_count": 9,
   "metadata": {},
   "outputs": [],
   "source": [
    "parameters = [{'kernel': ['rbf', 'poly'],\n",
    "                   'gamma': [1e-4, 1e-3],\n",
    "                    'C': [1, 10]},\n",
    "              {'kernel': ['linear'],\n",
    "                   'C': [1, 10]}]\n",
    "clf = model_selection.GridSearchCV(svm.SVC(decision_function_shape='ovr'), parameters, cv=5, scoring = 'recall', n_jobs = -1, verbose = 15 )"
   ]
  },
  {
   "cell_type": "markdown",
   "metadata": {},
   "source": []
  },
  {
   "cell_type": "code",
   "execution_count": 10,
   "metadata": {},
   "outputs": [
    {
     "name": "stdout",
     "output_type": "stream",
     "text": [
      "Fitting 5 folds for each of 10 candidates, totalling 50 fits\n"
     ]
    },
    {
     "name": "stderr",
     "output_type": "stream",
     "text": [
      "[Parallel(n_jobs=-1)]: Done   1 tasks      | elapsed:    1.1s\n",
      "[Parallel(n_jobs=-1)]: Done   2 tasks      | elapsed:    1.6s\n",
      "[Parallel(n_jobs=-1)]: Done   3 tasks      | elapsed:    2.1s\n",
      "[Parallel(n_jobs=-1)]: Done   4 tasks      | elapsed:    2.6s\n",
      "[Parallel(n_jobs=-1)]: Done   5 tasks      | elapsed:    3.1s\n",
      "[Parallel(n_jobs=-1)]: Done   6 tasks      | elapsed:    4.1s\n",
      "[Parallel(n_jobs=-1)]: Done   7 tasks      | elapsed:    4.7s\n",
      "[Parallel(n_jobs=-1)]: Done   8 tasks      | elapsed:    4.7s\n",
      "[Parallel(n_jobs=-1)]: Done   9 tasks      | elapsed:    4.7s\n",
      "[Parallel(n_jobs=-1)]: Done  10 tasks      | elapsed:    4.7s\n",
      "[Parallel(n_jobs=-1)]: Done  11 tasks      | elapsed:    4.8s\n",
      "[Parallel(n_jobs=-1)]: Done  12 tasks      | elapsed:    4.8s\n",
      "[Parallel(n_jobs=-1)]: Done  13 tasks      | elapsed:    5.4s\n",
      "[Parallel(n_jobs=-1)]: Done  14 tasks      | elapsed:    5.4s\n",
      "[Parallel(n_jobs=-1)]: Done  15 tasks      | elapsed:    5.5s\n",
      "[Parallel(n_jobs=-1)]: Done  16 tasks      | elapsed:    5.5s\n",
      "[Parallel(n_jobs=-1)]: Done  17 tasks      | elapsed:    5.6s\n",
      "[Parallel(n_jobs=-1)]: Done  18 tasks      | elapsed:    5.6s\n",
      "[Parallel(n_jobs=-1)]: Done  19 tasks      | elapsed:    5.6s\n",
      "[Parallel(n_jobs=-1)]: Done  20 tasks      | elapsed:    5.7s\n",
      "[Parallel(n_jobs=-1)]: Done  21 tasks      | elapsed:    6.7s\n",
      "[Parallel(n_jobs=-1)]: Done  22 tasks      | elapsed:    6.9s\n",
      "[Parallel(n_jobs=-1)]: Done  23 tasks      | elapsed:    7.1s\n",
      "[Parallel(n_jobs=-1)]: Done  24 tasks      | elapsed:    7.2s\n",
      "[Parallel(n_jobs=-1)]: Done  25 tasks      | elapsed:    7.3s\n",
      "[Parallel(n_jobs=-1)]: Done  26 tasks      | elapsed:    7.4s\n",
      "[Parallel(n_jobs=-1)]: Done  27 tasks      | elapsed:    7.5s\n",
      "[Parallel(n_jobs=-1)]: Done  28 tasks      | elapsed:    7.6s\n",
      "[Parallel(n_jobs=-1)]: Done  29 tasks      | elapsed:    7.7s\n",
      "[Parallel(n_jobs=-1)]: Done  30 tasks      | elapsed:    8.1s\n",
      "[Parallel(n_jobs=-1)]: Done  31 tasks      | elapsed:   15.0s\n",
      "[Parallel(n_jobs=-1)]: Done  32 tasks      | elapsed:   15.0s\n",
      "[Parallel(n_jobs=-1)]: Done  33 tasks      | elapsed:   15.6s\n",
      "[Parallel(n_jobs=-1)]: Done  34 tasks      | elapsed:   16.3s\n",
      "[Parallel(n_jobs=-1)]: Done  35 tasks      | elapsed:   18.7s\n",
      "[Parallel(n_jobs=-1)]: Done  39 out of  50 | elapsed:   21.9s remaining:    6.1s\n",
      "[Parallel(n_jobs=-1)]: Done  43 out of  50 | elapsed:   50.2s remaining:    8.1s\n",
      "[Parallel(n_jobs=-1)]: Done  47 out of  50 | elapsed:  1.3min remaining:    5.0s\n",
      "[Parallel(n_jobs=-1)]: Done  50 out of  50 | elapsed:  2.7min finished\n"
     ]
    },
    {
     "name": "stdout",
     "output_type": "stream",
     "text": [
      "0.000 (+/-0.000) for {'C': 1, 'gamma': 0.0001, 'kernel': 'rbf'}\n",
      "0.000 (+/-0.000) for {'C': 1, 'gamma': 0.0001, 'kernel': 'poly'}\n",
      "0.000 (+/-0.000) for {'C': 1, 'gamma': 0.001, 'kernel': 'rbf'}\n",
      "0.328 (+/-0.157) for {'C': 1, 'gamma': 0.001, 'kernel': 'poly'}\n",
      "0.000 (+/-0.000) for {'C': 10, 'gamma': 0.0001, 'kernel': 'rbf'}\n",
      "0.000 (+/-0.000) for {'C': 10, 'gamma': 0.0001, 'kernel': 'poly'}\n",
      "0.017 (+/-0.029) for {'C': 10, 'gamma': 0.001, 'kernel': 'rbf'}\n",
      "0.386 (+/-0.164) for {'C': 10, 'gamma': 0.001, 'kernel': 'poly'}\n",
      "0.562 (+/-0.142) for {'C': 1, 'kernel': 'linear'}\n",
      "0.585 (+/-0.121) for {'C': 10, 'kernel': 'linear'}\n",
      "{'C': 10, 'kernel': 'linear'}\n"
     ]
    }
   ],
   "source": [
    "clf.fit(X3, y)\n",
    "means = clf.cv_results_['mean_test_score']\n",
    "stds = clf.cv_results_['std_test_score']\n",
    "for mean, std, params in zip(means, stds, clf.cv_results_['params']):\n",
    "    print(\"%0.3f (+/-%0.03f) for %r\" % (mean, std * 2, params))\n",
    "print(clf.best_params_)"
   ]
  },
  {
   "cell_type": "markdown",
   "metadata": {},
   "source": [
    "Najlepsie nastavenie hyperparametrov pre SVM klasifikator je s linearnym kernelom a parametrom C=10"
   ]
  },
  {
   "cell_type": "code",
   "execution_count": null,
   "metadata": {},
   "outputs": [],
   "source": [
    "svc = svm.SVC(C=10, kernel='linear') # kernel, C, gamma\n",
    "svc.fit(X, y)\n",
    "\n",
    "train_preds = svc.predict(X)\n",
    "train_accuracy = metrics.accuracy_score(y, train_preds)\n",
    "print(\"Vysledky na trenovacich datach\\n\", train_accuracy)\n",
    "print(metrics.classification_report(y, train_preds), \"\\n\\nVysledky na testovacich datach\")\n",
    "\n",
    "preds = svc.predict(X2)\n",
    "test_accuracy = metrics.accuracy_score(y2, preds)\n",
    "print(test_accuracy)\n",
    "print(metrics.classification_report(y2, preds))"
   ]
  },
  {
   "cell_type": "markdown",
   "metadata": {},
   "source": [
    "SVM klasifikator sa nam z casovych dovodov nestihol natrenovat a zistit jeho vysledky...."
   ]
  },
  {
   "cell_type": "markdown",
   "metadata": {},
   "source": [
    "Na riesenie minoritnych tried by sme mohli vygenerovat viac vzoriek s minoritnou triedou na zvysenie vahy, aby sme tak mohli dopomoct metrike recall"
   ]
  },
  {
   "cell_type": "markdown",
   "metadata": {},
   "source": [
    "Najlepsie vysledky mal rozhodovaci strom."
   ]
  },
  {
   "cell_type": "code",
   "execution_count": null,
   "metadata": {},
   "outputs": [],
   "source": []
  },
  {
   "cell_type": "markdown",
   "metadata": {},
   "source": []
  },
  {
   "cell_type": "code",
   "execution_count": null,
   "metadata": {},
   "outputs": [],
   "source": []
  }
 ],
 "metadata": {
  "kernelspec": {
   "display_name": "Python 3",
   "language": "python",
   "name": "python3"
  },
  "language_info": {
   "codemirror_mode": {
    "name": "ipython",
    "version": 3
   },
   "file_extension": ".py",
   "mimetype": "text/x-python",
   "name": "python",
   "nbconvert_exporter": "python",
   "pygments_lexer": "ipython3",
   "version": "3.6.4"
  }
 },
 "nbformat": 4,
 "nbformat_minor": 2
}
